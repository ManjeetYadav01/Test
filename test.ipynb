{
  "nbformat": 4,
  "nbformat_minor": 0,
  "metadata": {
    "colab": {
      "provenance": []
    },
    "kernelspec": {
      "name": "python3",
      "display_name": "Python 3"
    },
    "language_info": {
      "name": "python"
    }
  },
  "cells": [
    {
      "cell_type": "code",
      "execution_count": 1,
      "metadata": {
        "colab": {
          "base_uri": "https://localhost:8080/"
        },
        "id": "yqE0fCYBFVYV",
        "outputId": "d938738c-d76c-46b0-ffc9-dff2bef7fba2"
      },
      "outputs": [
        {
          "output_type": "stream",
          "name": "stdout",
          "text": [
            "Total pixels with mask value 255: 18598\n"
          ]
        }
      ],
      "source": [
        "import cv2\n",
        "import multiprocessing as mp\n",
        "import numpy as np\n",
        "import os\n",
        "\n",
        "def process_image(filename):\n",
        "    img = cv2.imread(filename)\n",
        "    mask = np.all(img > 200, axis=2).astype(np.uint8) * 255\n",
        "    cv2.imwrite(filename.replace('.jpg', '_mask.png'), mask)\n",
        "    return np.sum(mask == 255)\n",
        "\n",
        "def main():\n",
        "    image_dir = \"/content/pics\"  # Replace with your image directory\n",
        "\n",
        "    # Get a list of all .jpg files in the directory\n",
        "    image_files = [os.path.join(image_dir, f) for f in os.listdir(image_dir) if f.endswith('.jpg')]\n",
        "\n",
        "    # Create a pool of processes\n",
        "    with mp.Pool() as pool:\n",
        "        results = pool.map(process_image, image_files)\n",
        "\n",
        "    # Sum the number of pixels in all masks\n",
        "    total_pixels = sum(results)\n",
        "    print(f\"Total pixels with mask value 255: {total_pixels}\")\n",
        "\n",
        "if __name__ == \"__main__\":\n",
        "    main()"
      ]
    }
  ]
}